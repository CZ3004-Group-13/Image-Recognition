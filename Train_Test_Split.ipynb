{
 "cells": [
  {
   "cell_type": "code",
   "execution_count": 1,
   "id": "7caa5798",
   "metadata": {},
   "outputs": [],
   "source": [
    "import random\n",
    "lst = [[x for x in range(20)] for y in range(30)]\n",
    "for i in lst:\n",
    "    random.shuffle(i)\n",
    "    \n",
    "f = open(\"test.txt\", \"w\")\n",
    "for i in range(len(lst)):\n",
    "    for j in range(2):\n",
    "        f.write('/Photos/image' + str(i) + '-' + str(lst[i][j]).zfill(2) + '.jpg\\n')\n",
    "f.close()\n",
    "\n",
    "f = open(\"train.txt\", \"w\")\n",
    "for i in range(len(lst)):\n",
    "    for j in range(2, 20):\n",
    "        f.write('/Photos/image' + str(i) + '-' + str(lst[i][j]).zfill(2) + '.jpg\\n')\n",
    "f.close()"
   ]
  }
 ],
 "metadata": {
  "kernelspec": {
   "display_name": "Python 3",
   "language": "python",
   "name": "python3"
  },
  "language_info": {
   "codemirror_mode": {
    "name": "ipython",
    "version": 3
   },
   "file_extension": ".py",
   "mimetype": "text/x-python",
   "name": "python",
   "nbconvert_exporter": "python",
   "pygments_lexer": "ipython3",
   "version": "3.8.11"
  }
 },
 "nbformat": 4,
 "nbformat_minor": 5
}
