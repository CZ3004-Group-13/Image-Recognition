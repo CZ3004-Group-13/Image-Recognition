{
  "nbformat": 4,
  "nbformat_minor": 0,
  "metadata": {
    "colab": {
      "name": "Image Recognition.ipynb",
      "provenance": [],
      "collapsed_sections": [
        "pdvbA30LalW1"
      ]
    },
    "kernelspec": {
      "name": "python3",
      "display_name": "Python 3"
    },
    "accelerator": "GPU"
  },
  "cells": [
    {
      "cell_type": "markdown",
      "metadata": {
        "id": "CTqTBmNwtj7F"
      },
      "source": [
        "## Mount with your Google Drive"
      ]
    },
    {
      "cell_type": "code",
      "metadata": {
        "id": "6ZBqlVeQtY0O"
      },
      "source": [
        "from google.colab import drive\n",
        "drive.mount('/content/drive')"
      ],
      "execution_count": null,
      "outputs": []
    },
    {
      "cell_type": "markdown",
      "metadata": {
        "id": "HalkELEPW0Xk"
      },
      "source": [
        "## Setup darknet environment"
      ]
    },
    {
      "cell_type": "code",
      "metadata": {
        "id": "chLx6CYonvRq"
      },
      "source": [
        "import os\n",
        "assert os.getcwd()=='/content', 'Directory should be \"/content\" instead of \"{}\"'.format(os.getcwd())\n",
        "\n",
        "# remove the existing folder if have\n",
        "!rm -r darknet_for_colab\n",
        "\n",
        "# download and compile darknet_for_colab\n",
        "!git clone https://github.com/CZ3004-Group-13/darknet_for_colab.git\n",
        "%cd darknet_for_colab\n",
        "!make\n",
        "!chmod +x ./darknet"
      ],
      "execution_count": null,
      "outputs": []
    },
    {
      "cell_type": "markdown",
      "metadata": {
        "id": "Lxj5xT4RXorl"
      },
      "source": [
        "## Download yolov4 pre-trained weights"
      ]
    },
    {
      "cell_type": "code",
      "metadata": {
        "id": "fR_c5rzB1CMM"
      },
      "source": [
        "assert os.getcwd()=='/content/darknet_for_colab', 'Directory should be \"/content/darknet_for_colab\" instead of \"{}\"'.format(os.getcwd())\n",
        "!cp /content/drive/MyDrive/YOLOv4_weight/backup/yolov4_custom_train_last.weights /content/darknet_for_colab"
      ],
      "execution_count": null,
      "outputs": []
    },
    {
      "cell_type": "markdown",
      "metadata": {
        "id": "13uuLYmGX0Fu"
      },
      "source": [
        "## Download custom dataset (yolo format)"
      ]
    },
    {
      "cell_type": "code",
      "metadata": {
        "id": "7o8ukkWeIMHD"
      },
      "source": [
        "%cd data\n",
        "assert os.getcwd()=='/content/darknet_for_colab/data', 'Directory should be \"/content/darknet_for_colab/data\" instead of \"{}\"'.format(os.getcwd())\n",
        "\n",
        "# download data set from google drive\n",
        "!cp /content/drive/MyDrive/ts.zip /content/darknet_for_colab/data\n",
        "!unzip ts.zip\n",
        "!rm -f ts.zip\n",
        "!ls\n",
        "%cd .."
      ],
      "execution_count": null,
      "outputs": []
    },
    {
      "cell_type": "markdown",
      "metadata": {
        "id": "UD6Lrif_YGaU"
      },
      "source": [
        "## Visualize custom dataset examples (optional)"
      ]
    },
    {
      "cell_type": "code",
      "metadata": {
        "id": "1SMVV3xXYgk-"
      },
      "source": [
        "assert os.getcwd()=='/content/darknet_for_colab', 'Directory should be \"/content/darknet_for_colab\" instead of \"{}\"'.format(os.getcwd())\n",
        "\n",
        "import matplotlib.pyplot as plt\n",
        "import matplotlib.gridspec as gridspec\n",
        "import glob\n",
        "\n",
        "def read_label(image_path):\n",
        "  file_name = image_path.replace('.jpg', '.txt')\n",
        "  with open(file_name, 'rt') as file:\n",
        "    print(os.path.basename(file_name) + ': \\n' + file.read())\n",
        "\n",
        "image_path = glob.glob(\"data/ts/*.jpg\")\n",
        "fig = plt.figure(figsize=(12,8))\n",
        "cols = 2\n",
        "rows = 2\n",
        "grid = gridspec.GridSpec(nrows=rows, ncols=cols, figure=fig)\n",
        "for i in range(cols*rows):\n",
        "  fig.add_subplot(grid[i])\n",
        "  image=plt.imread(image_path[i])\n",
        "  plt.title(os.path.basename(image_path[i]))\n",
        "  plt.axis(False)\n",
        "  plt.imshow(image)\n",
        "  read_label(image_path[i])\n",
        "\n",
        "plt.savefig(\"dataset_examples.jpg\", dpi=300)"
      ],
      "execution_count": null,
      "outputs": []
    },
    {
      "cell_type": "markdown",
      "metadata": {
        "id": "187p7jTS5QVa"
      },
      "source": [
        "## Modify yolov4 architecture\n",
        "\n",
        "**Double click on file `yolov4_config.py` to modify the hyperpameters directly from Colab environment**\n",
        "\n",
        "E.g: I will train my dataset with these parameters:\n",
        " - classes= 31, \n",
        " - max_batches=1000\n",
        " - batch=64\n",
        " - subdivisions=16\n",
        " - width=256\n",
        " - height=256\n",
        " - ..."
      ]
    },
    {
      "cell_type": "code",
      "metadata": {
        "id": "hJPivcaZ4sqA"
      },
      "source": [
        "assert os.getcwd()=='/content/darknet_for_colab', 'Directory should be \"/content/darknet_for_colab\" instead of \"{}\"'.format(os.getcwd())\n",
        "\n",
        "# Run python script to create our customize yolov4_custom_train.cfg \n",
        "# and yolov4_custom_tes.cfg in folder /cfg\n",
        "!python yolov4_setup.py"
      ],
      "execution_count": null,
      "outputs": []
    },
    {
      "cell_type": "markdown",
      "metadata": {
        "id": "eD1OPbAmYkX7"
      },
      "source": [
        "## Create symbolic link in our Drive\n",
        "\n",
        "Make sure that you laready created directory _YOLOv4_weight/backup_ in your Drive"
      ]
    },
    {
      "cell_type": "code",
      "metadata": {
        "id": "OUnyu3Gr6I_1"
      },
      "source": [
        "assert os.getcwd()=='/content/darknet_for_colab', 'Directory should be \"/content/darknet_for_colab\" instead of \"{}\"'.format(os.getcwd())\n",
        "\n",
        "# delete backup folder from our \n",
        "!rm /content/darknet_for_colab/backup -r\n",
        "\n",
        "# create Symlinks so we can save trained weight in our Google Drive\n",
        "# create folder YOLOv4_weight/back in your Drive to store trained weights\n",
        "!ln -s /content/drive/'My Drive'/YOLOv4_weight/backup /content/darknet_for_colab"
      ],
      "execution_count": null,
      "outputs": []
    },
    {
      "cell_type": "code",
      "metadata": {
        "id": "IK_gpH2MAZ0F"
      },
      "source": [
        "!cp -r /content/darknet_for_colab/cfg /content/drive/'My Drive'/YOLOv4_weight/cfg"
      ],
      "execution_count": null,
      "outputs": []
    },
    {
      "cell_type": "markdown",
      "metadata": {
        "id": "tl5GHQf5ZEh3"
      },
      "source": [
        "## Training"
      ]
    },
    {
      "cell_type": "code",
      "metadata": {
        "id": "e7f6_fGm7vFb"
      },
      "source": [
        "assert os.getcwd()=='/content/darknet_for_colab', 'Directory should be \"/content/darknet_for_colab\" instead of \"{}\"'.format(os.getcwd())\n",
        "\n",
        "!./darknet detector train data/yolov4.data cfg/yolov4_custom_train.cfg yolov4_custom_train_last.weights -dont_show -map\n",
        "#If you get CUDA out of memory adjust subdivisions above!\n",
        "#adjust max batches down for shorter training above"
      ],
      "execution_count": null,
      "outputs": []
    },
    {
      "cell_type": "markdown",
      "metadata": {
        "id": "azzJCBjMZO6Y"
      },
      "source": [
        "## Visualize training result"
      ]
    },
    {
      "cell_type": "code",
      "metadata": {
        "id": "R4ruwfrV9GUR"
      },
      "source": [
        "assert os.getcwd()=='/content/darknet_for_colab', 'Directory should be \"/content/darknet_for_colab\" instead of \"{}\"'.format(os.getcwd())\n",
        "\n",
        "# Plotting training result after 2000 epochs\n",
        "import matplotlib.pyplot as plt\n",
        "fig = plt.figure(figsize=(10,10))\n",
        "train_result = plt.imread(\"chart.png\")\n",
        "plt.axis(False)\n",
        "plt.imshow(train_result)"
      ],
      "execution_count": null,
      "outputs": []
    },
    {
      "cell_type": "markdown",
      "metadata": {
        "id": "FVJfL6dRZppP"
      },
      "source": [
        "## Test with example image/video"
      ]
    },
    {
      "cell_type": "code",
      "metadata": {
        "id": "ISC0Lk_ua-QY"
      },
      "source": [
        "assert os.getcwd()=='/content/darknet_for_colab', 'Directory should be \"/content/darknet_for_colab\" instead of \"{}\"'.format(os.getcwd())\n",
        "\n",
        "# download example images and video\n",
        "!cp /content/drive/MyDrive/examples.zip /content/darknet_for_colab\n",
        "!unzip examples.zip\n",
        "!rm -r examples.zip"
      ],
      "execution_count": null,
      "outputs": []
    },
    {
      "cell_type": "code",
      "metadata": {
        "id": "1URDPsaKVTyd"
      },
      "source": [
        "assert os.getcwd()=='/content/darknet_for_colab', 'Directory should be \"/content/darknet_for_colab\" instead of \"{}\"'.format(os.getcwd())\n",
        "\n",
        "# cfg/coco.data was hardcoded in darknet, thus we need \n",
        "# to duplicate one with the same content of data/yolov4.data\n",
        "%cp data/yolov4.data cfg/coco.data"
      ],
      "execution_count": null,
      "outputs": []
    },
    {
      "cell_type": "code",
      "metadata": {
        "id": "B9CiyhAg9big"
      },
      "source": [
        "assert os.getcwd()=='/content/darknet_for_colab', 'Directory should be \"/content/darknet_for_colab\" instead of \"{}\"'.format(os.getcwd())\n",
        "\n",
        "# test out our detector!\n",
        "# coco.names is hardcoded somewhere in the detector\n",
        "img_path = \"examples/test_image_4.jpg\"\n",
        "!./darknet detect cfg/yolov4_custom_test.cfg backup/yolov4_custom_train_last.weights {img_path} -dont-show\n",
        "# !./darknet detect cfg/yolov4_custom_test.cfg backup/yolov4_custom_train_best.weights {img_path} -dont-show"
      ],
      "execution_count": null,
      "outputs": []
    },
    {
      "cell_type": "code",
      "metadata": {
        "id": "gRKX-EmYev42"
      },
      "source": [
        "assert os.getcwd()=='/content/darknet_for_colab', 'Directory should be \"/content/darknet_for_colab\" instead of \"{}\"'.format(os.getcwd())\n",
        "\n",
        "import matplotlib.pyplot as plt \n",
        "fig = plt.figure(figsize=(12,12))\n",
        "plt.axis(False)\n",
        "processed_image = plt.imread(\"./predictions.jpg\")\n",
        "plt.imshow(processed_image)"
      ],
      "execution_count": null,
      "outputs": []
    },
    {
      "cell_type": "code",
      "metadata": {
        "id": "Kk2tyXDXkkur"
      },
      "source": [
        "assert os.getcwd()=='/content/darknet_for_colab', 'Directory should be \"/content/darknet_for_colab\" instead of \"{}\"'.format(os.getcwd())\n",
        "\n",
        "# video processed\n",
        "!python darknet_video.py -v examples/test_video.mp4 -c cfg/yolov4_custom_test.cfg -w backup/yolov4_custom_train_last.weights -o output.mp4"
      ],
      "execution_count": null,
      "outputs": []
    },
    {
      "cell_type": "markdown",
      "metadata": {
        "id": "pdvbA30LalW1"
      },
      "source": [
        "## The End!"
      ]
    }
  ]
}