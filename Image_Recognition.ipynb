{
  "nbformat": 4,
  "nbformat_minor": 0,
  "metadata": {
    "accelerator": "GPU",
    "colab": {
      "name": "Image_Recognition.ipynb",
      "provenance": [],
      "collapsed_sections": []
    },
    "kernelspec": {
      "display_name": "Python 3",
      "name": "python3"
    }
  },
  "cells": [
    {
      "cell_type": "markdown",
      "metadata": {
        "id": "CTqTBmNwtj7F"
      },
      "source": [
        "## Mount with your Google Drive"
      ]
    },
    {
      "cell_type": "code",
      "metadata": {
        "id": "6ZBqlVeQtY0O"
      },
      "source": [
        "from google.colab import drive\n",
        "drive.mount('/content/drive')"
      ],
      "execution_count": null,
      "outputs": []
    },
    {
      "cell_type": "markdown",
      "metadata": {
        "id": "HalkELEPW0Xk"
      },
      "source": [
        "## Setup darknet environment"
      ]
    },
    {
      "cell_type": "code",
      "metadata": {
        "id": "chLx6CYonvRq"
      },
      "source": [
        "import os\n",
        "\n",
        "# Download and compile darknet_for_colab\n",
        "!git clone https://github.com/CZ3004-Group-13/darknet_for_colab.git\n",
        "%cd darknet_for_colab\n",
        "!make\n",
        "!chmod +x ./darknet"
      ],
      "execution_count": null,
      "outputs": []
    },
    {
      "cell_type": "markdown",
      "metadata": {
        "id": "Lxj5xT4RXorl"
      },
      "source": [
        "## Copy yolov4 last trained weights"
      ]
    },
    {
      "cell_type": "code",
      "metadata": {
        "id": "fR_c5rzB1CMM"
      },
      "source": [
        "!cp /content/drive/MyDrive/YOLOv4_weight/backup/yolov4_custom_train_final.weights /content/darknet_for_colab"
      ],
      "execution_count": null,
      "outputs": []
    },
    {
      "cell_type": "markdown",
      "metadata": {
        "id": "13uuLYmGX0Fu"
      },
      "source": [
        "## Download custom dataset (yolo format)"
      ]
    },
    {
      "cell_type": "code",
      "metadata": {
        "id": "7o8ukkWeIMHD"
      },
      "source": [
        "%cd data\n",
        "\n",
        "# Download data set from google drive\n",
        "!cp /content/drive/MyDrive/ts.zip /content/darknet_for_colab/data\n",
        "!unzip ts.zip\n",
        "!rm -f ts.zip\n",
        "!ls\n",
        "%cd .."
      ],
      "execution_count": null,
      "outputs": []
    },
    {
      "cell_type": "markdown",
      "metadata": {
        "id": "187p7jTS5QVa"
      },
      "source": [
        "## Modify yolov4 architecture\n",
        "\n",
        "**Double click on file `yolov4_config.py` to modify the hyperpameters directly from Colab environment**\n",
        "\n",
        "I will train my dataset with these parameters:\n",
        " - classes= 31, \n",
        " - max_batches=1000\n",
        " - batch=64\n",
        " - subdivisions=16\n",
        " - width=256\n",
        " - height=256\n",
        " - ..."
      ]
    },
    {
      "cell_type": "code",
      "metadata": {
        "id": "hJPivcaZ4sqA"
      },
      "source": [
        "!python yolov4_setup.py"
      ],
      "execution_count": null,
      "outputs": []
    },
    {
      "cell_type": "markdown",
      "metadata": {
        "id": "eD1OPbAmYkX7"
      },
      "source": [
        "## Create symbolic link in our Drive\n",
        "\n",
        "Make sure that you laready created directory _YOLOv4_weight/backup_ in your Drive"
      ]
    },
    {
      "cell_type": "code",
      "metadata": {
        "id": "OUnyu3Gr6I_1"
      },
      "source": [
        "# Delete backup folder from our runtime\n",
        "!rm /content/darknet_for_colab/backup -r\n",
        "\n",
        "# Create Symlinks so we can save trained weight in our Google Drive\n",
        "# Create folder YOLOv4_weight/backup in your Drive to store trained weights\n",
        "!ln -s /content/drive/'My Drive'/YOLOv4_weight/backup /content/darknet_for_colab"
      ],
      "execution_count": null,
      "outputs": []
    },
    {
      "cell_type": "markdown",
      "metadata": {
        "id": "tl5GHQf5ZEh3"
      },
      "source": [
        "## Training"
      ]
    },
    {
      "cell_type": "code",
      "metadata": {
        "id": "e7f6_fGm7vFb"
      },
      "source": [
        "!./darknet detector train data/yolov4.data cfg/yolov4_custom_train.cfg yolov4_custom_train_final.weights -dont_show -map -clear\n",
        "# If you get CUDA out of memory adjust subdivisions above,\n",
        "# adjust max batches down for shorter training above"
      ],
      "execution_count": null,
      "outputs": []
    }
  ]
}